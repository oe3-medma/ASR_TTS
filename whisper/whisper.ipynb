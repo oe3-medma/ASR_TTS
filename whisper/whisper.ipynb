{
 "cells": [
  {
   "cell_type": "markdown",
   "metadata": {},
   "source": [
    "# install all requirements"
   ]
  },
  {
   "cell_type": "code",
   "execution_count": 1,
   "metadata": {},
   "outputs": [
    {
     "name": "stdout",
     "output_type": "stream",
     "text": [
      "Collecting ffmpeg-python\n",
      "  Downloading ffmpeg_python-0.2.0-py3-none-any.whl (25 kB)\n",
      "Collecting future\n",
      "  Downloading future-0.18.3.tar.gz (840 kB)\n",
      "     ---------------------------------------- 0.0/840.9 kB ? eta -:--:--\n",
      "     ------- ------------------------------ 163.8/840.9 kB 5.0 MB/s eta 0:00:01\n",
      "     ----------------------- -------------- 522.2/840.9 kB 6.6 MB/s eta 0:00:01\n",
      "     -------------------------------------  829.4/840.9 kB 5.9 MB/s eta 0:00:01\n",
      "     -------------------------------------- 840.9/840.9 kB 5.3 MB/s eta 0:00:00\n",
      "  Preparing metadata (setup.py): started\n",
      "  Preparing metadata (setup.py): finished with status 'done'\n",
      "Installing collected packages: future, ffmpeg-python\n",
      "  Running setup.py install for future: started\n",
      "  Running setup.py install for future: finished with status 'done'\n",
      "Successfully installed ffmpeg-python-0.2.0 future-0.18.3\n"
     ]
    },
    {
     "name": "stderr",
     "output_type": "stream",
     "text": [
      "  DEPRECATION: future is being installed using the legacy 'setup.py install' method, because it does not have a 'pyproject.toml' and the 'wheel' package is not installed. pip 23.1 will enforce this behaviour change. A possible replacement is to enable the '--use-pep517' option. Discussion can be found at https://github.com/pypa/pip/issues/8559\n",
      "\n",
      "[notice] A new release of pip is available: 23.0.1 -> 23.2.1\n",
      "[notice] To update, run: python.exe -m pip install --upgrade pip\n"
     ]
    },
    {
     "name": "stdout",
     "output_type": "stream",
     "text": [
      "Collecting git+https://github.com/openai/whisper.git\n",
      "  Cloning https://github.com/openai/whisper.git to c:\\users\\minal\\appdata\\local\\temp\\pip-req-build-e87ggkn3\n",
      "  Resolved https://github.com/openai/whisper.git to commit b38a1f20f4b23f3f3099af2c3e0ca95627276ddf\n",
      "  Installing build dependencies: started\n",
      "  Installing build dependencies: finished with status 'done'\n",
      "  Getting requirements to build wheel: started\n",
      "  Getting requirements to build wheel: finished with status 'done'\n",
      "  Preparing metadata (pyproject.toml): started\n",
      "  Preparing metadata (pyproject.toml): finished with status 'done'\n",
      "Requirement already satisfied: torch in c:\\users\\minal\\desktop\\2023\\new_env\\myenv\\lib\\site-packages (from openai-whisper==20230918) (2.1.0)\n",
      "Requirement already satisfied: tqdm in c:\\users\\minal\\desktop\\2023\\new_env\\myenv\\lib\\site-packages (from openai-whisper==20230918) (4.66.1)\n",
      "Requirement already satisfied: numpy in c:\\users\\minal\\desktop\\2023\\new_env\\myenv\\lib\\site-packages (from openai-whisper==20230918) (1.25.2)\n",
      "Requirement already satisfied: more-itertools in c:\\users\\minal\\desktop\\2023\\new_env\\myenv\\lib\\site-packages (from openai-whisper==20230918) (10.1.0)\n",
      "Requirement already satisfied: numba in c:\\users\\minal\\desktop\\2023\\new_env\\myenv\\lib\\site-packages (from openai-whisper==20230918) (0.58.0)\n",
      "Requirement already satisfied: tiktoken==0.3.3 in c:\\users\\minal\\desktop\\2023\\new_env\\myenv\\lib\\site-packages (from openai-whisper==20230918) (0.3.3)\n",
      "Requirement already satisfied: requests>=2.26.0 in c:\\users\\minal\\desktop\\2023\\new_env\\myenv\\lib\\site-packages (from tiktoken==0.3.3->openai-whisper==20230918) (2.31.0)\n",
      "Requirement already satisfied: regex>=2022.1.18 in c:\\users\\minal\\desktop\\2023\\new_env\\myenv\\lib\\site-packages (from tiktoken==0.3.3->openai-whisper==20230918) (2023.10.3)\n",
      "Requirement already satisfied: llvmlite<0.42,>=0.41.0dev0 in c:\\users\\minal\\desktop\\2023\\new_env\\myenv\\lib\\site-packages (from numba->openai-whisper==20230918) (0.41.0)\n",
      "Requirement already satisfied: networkx in c:\\users\\minal\\desktop\\2023\\new_env\\myenv\\lib\\site-packages (from torch->openai-whisper==20230918) (3.1)\n",
      "Requirement already satisfied: sympy in c:\\users\\minal\\desktop\\2023\\new_env\\myenv\\lib\\site-packages (from torch->openai-whisper==20230918) (1.12)\n",
      "Requirement already satisfied: typing-extensions in c:\\users\\minal\\desktop\\2023\\new_env\\myenv\\lib\\site-packages (from torch->openai-whisper==20230918) (4.8.0)\n",
      "Requirement already satisfied: filelock in c:\\users\\minal\\desktop\\2023\\new_env\\myenv\\lib\\site-packages (from torch->openai-whisper==20230918) (3.12.4)\n",
      "Requirement already satisfied: jinja2 in c:\\users\\minal\\desktop\\2023\\new_env\\myenv\\lib\\site-packages (from torch->openai-whisper==20230918) (3.1.2)\n",
      "Requirement already satisfied: fsspec in c:\\users\\minal\\desktop\\2023\\new_env\\myenv\\lib\\site-packages (from torch->openai-whisper==20230918) (2023.9.2)\n",
      "Requirement already satisfied: colorama in c:\\users\\minal\\desktop\\2023\\new_env\\myenv\\lib\\site-packages (from tqdm->openai-whisper==20230918) (0.4.6)\n",
      "Requirement already satisfied: certifi>=2017.4.17 in c:\\users\\minal\\desktop\\2023\\new_env\\myenv\\lib\\site-packages (from requests>=2.26.0->tiktoken==0.3.3->openai-whisper==20230918) (2023.7.22)\n",
      "Requirement already satisfied: urllib3<3,>=1.21.1 in c:\\users\\minal\\desktop\\2023\\new_env\\myenv\\lib\\site-packages (from requests>=2.26.0->tiktoken==0.3.3->openai-whisper==20230918) (2.0.6)\n",
      "Requirement already satisfied: idna<4,>=2.5 in c:\\users\\minal\\desktop\\2023\\new_env\\myenv\\lib\\site-packages (from requests>=2.26.0->tiktoken==0.3.3->openai-whisper==20230918) (3.4)\n",
      "Requirement already satisfied: charset-normalizer<4,>=2 in c:\\users\\minal\\desktop\\2023\\new_env\\myenv\\lib\\site-packages (from requests>=2.26.0->tiktoken==0.3.3->openai-whisper==20230918) (3.3.0)\n",
      "Requirement already satisfied: MarkupSafe>=2.0 in c:\\users\\minal\\desktop\\2023\\new_env\\myenv\\lib\\site-packages (from jinja2->torch->openai-whisper==20230918) (2.1.3)\n",
      "Requirement already satisfied: mpmath>=0.19 in c:\\users\\minal\\desktop\\2023\\new_env\\myenv\\lib\\site-packages (from sympy->torch->openai-whisper==20230918) (1.3.0)\n"
     ]
    },
    {
     "name": "stderr",
     "output_type": "stream",
     "text": [
      "  Running command git clone --filter=blob:none --quiet https://github.com/openai/whisper.git 'C:\\Users\\minal\\AppData\\Local\\Temp\\pip-req-build-e87ggkn3'\n",
      "\n",
      "[notice] A new release of pip is available: 23.0.1 -> 23.2.1\n",
      "[notice] To update, run: python.exe -m pip install --upgrade pip\n"
     ]
    }
   ],
   "source": [
    "!pip install ffmpeg-python\n",
    "!pip install git+https://github.com/openai/whisper.git"
   ]
  },
  {
   "cell_type": "code",
   "execution_count": 5,
   "metadata": {},
   "outputs": [
    {
     "name": "stdout",
     "output_type": "stream",
     "text": [
      " Verde az itharc Az itharc ben aithaçı yürür Dünyanın araristum edilmişim Allah'ın kervi bir sık Allah'ın kervi bir film bir sık Allah'ın kervi bir film bir sık Allah'ın kervi bir film bir sık Allah'ın kervi bir sık\n"
     ]
    }
   ],
   "source": [
    "import whisper\n",
    "import numpy as np\n",
    "model = whisper.load_model(\"tiny\")\n",
    "file_path = 'example2.wav'\n",
    "transcription = model.transcribe(file_path)[\"text\"]\n",
    "print(transcription)"
   ]
  }
 ],
 "metadata": {
  "kernelspec": {
   "display_name": "myenv",
   "language": "python",
   "name": "python3"
  },
  "language_info": {
   "codemirror_mode": {
    "name": "ipython",
    "version": 3
   },
   "file_extension": ".py",
   "mimetype": "text/x-python",
   "name": "python",
   "nbconvert_exporter": "python",
   "pygments_lexer": "ipython3",
   "version": "3.10.11"
  }
 },
 "nbformat": 4,
 "nbformat_minor": 2
}
